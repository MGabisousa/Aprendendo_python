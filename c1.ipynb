{
 "cells": [
  {
   "cell_type": "code",
   "execution_count": 3,
   "id": "dddf5563",
   "metadata": {},
   "outputs": [
    {
     "name": "stdout",
     "output_type": "stream",
     "text": [
      "nome do seu e-mails institucionais:josesantos@ccj.uf.br\n",
      "ccj é o seu centro\n"
     ]
    }
   ],
   "source": [
    "#Exercício 1:\n",
    "#Maria Gabriela de Paiva Sousa\n",
    "\n",
    "p=input(\"nome do seu e-mails institucionais:\")\n",
    "x=p.find(\"@\")\n",
    "l=x+1\n",
    "print(p[l:-6],\"é o seu centro\")\n"
   ]
  },
  {
   "cell_type": "code",
   "execution_count": 6,
   "id": "bba2a77d",
   "metadata": {},
   "outputs": [
    {
     "name": "stdout",
     "output_type": "stream",
     "text": [
      "This semester, i am learning python for data science!\n"
     ]
    }
   ],
   "source": [
    "#desafio 1\n",
    "\n",
    "c=\"Th15 53m3573r, 1 4m l34rn1n9 pyth0n f0r d474 5c13nc3!\"\n",
    "c_1=c.replace(\"0\",\"o\")\n",
    "c_2=c_1.replace(\"1\",\"i\")\n",
    "c_3=c_2.replace(\"3\",\"e\")\n",
    "c_4=c_3.replace(\"4\",\"a\")\n",
    "c_5=c_4.replace(\"5\",\"s\")\n",
    "c_6=c_5.replace(\"7\",\"t\")\n",
    "c_7=c_6.replace(\"9\",\"g\")\n",
    "print(c_7)"
   ]
  },
  {
   "cell_type": "code",
   "execution_count": null,
   "id": "8cf87e0b",
   "metadata": {},
   "outputs": [],
   "source": []
  }
 ],
 "metadata": {
  "kernelspec": {
   "display_name": "Python 3 (ipykernel)",
   "language": "python",
   "name": "python3"
  },
  "language_info": {
   "codemirror_mode": {
    "name": "ipython",
    "version": 3
   },
   "file_extension": ".py",
   "mimetype": "text/x-python",
   "name": "python",
   "nbconvert_exporter": "python",
   "pygments_lexer": "ipython3",
   "version": "3.9.7"
  }
 },
 "nbformat": 4,
 "nbformat_minor": 5
}
