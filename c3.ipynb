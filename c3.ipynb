{
 "cells": [
  {
   "cell_type": "code",
   "execution_count": 38,
   "id": "5f555efd",
   "metadata": {},
   "outputs": [
    {
     "name": "stdout",
     "output_type": "stream",
     "text": [
      "deve comprar caixa 1: False\n",
      "deve comprar caixa 2: False\n",
      "deve comprar caixa 3: True\n"
     ]
    }
   ],
   "source": [
    "#maria gabriela de paiva saousa \n",
    "caixa_1=[\"Mbappé\", \"Messi\", \"Neymar\",\"Modric\", \"Kane\", \"Kane\", \"Ronaldo\", \"Lewandowski\", \"Ochoa\", \"Suárez\" ]\n",
    "caixa_2 =[\"Mbappé\", \"Messi\", \"Neymar\",\"Modric\", \"Kane\", \"Ronaldo\", \"Lewandowski\", \"Ochoa\", \"Messi\", \"Suárez\" ]\n",
    "caixa_3 =[\"Mbappé\", \"Messi\", \"Neymar\",\"Modric\", \"Kane\", \"Ronaldo\", \"Suárez\"]\n",
    "cx1=set(caixa_1)\n",
    "cx2=set(caixa_2)\n",
    "cx3=set(caixa_3)\n",
    "print(\"deve comprar caixa 1:\",len(cx1) == len(caixa_1))\n",
    "print(\"deve comprar caixa 2:\",len(cx2) == len(caixa_2))\n",
    "print(\"deve comprar caixa 3:\",len(cx3)==len(caixa_3))\n"
   ]
  },
  {
   "cell_type": "code",
   "execution_count": null,
   "id": "e4434b4d",
   "metadata": {},
   "outputs": [],
   "source": []
  },
  {
   "cell_type": "code",
   "execution_count": null,
   "id": "8f154ec0",
   "metadata": {},
   "outputs": [],
   "source": []
  }
 ],
 "metadata": {
  "kernelspec": {
   "display_name": "Python 3 (ipykernel)",
   "language": "python",
   "name": "python3"
  },
  "language_info": {
   "codemirror_mode": {
    "name": "ipython",
    "version": 3
   },
   "file_extension": ".py",
   "mimetype": "text/x-python",
   "name": "python",
   "nbconvert_exporter": "python",
   "pygments_lexer": "ipython3",
   "version": "3.9.7"
  }
 },
 "nbformat": 4,
 "nbformat_minor": 5
}
