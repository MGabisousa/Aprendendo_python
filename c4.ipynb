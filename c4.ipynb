{
 "cells": [
  {
   "cell_type": "code",
   "execution_count": 12,
   "id": "608ca32e",
   "metadata": {},
   "outputs": [
    {
     "name": "stdout",
     "output_type": "stream",
     "text": [
      "digite seu texto:No meio do caminho tinha uma pedra Tinha uma pedra no meio do caminho Tinha uma pedra No meio do caminho tinha uma pedra Nunca me esquecerei desse acontecimento Na vida de minhas retinas tão fatigadas Nunca me esquecerei que no meio do caminho Tinha uma pedra Tinha uma pedra no meio do caminho No meio do caminho tinha uma pedra. Fonte: Musixmatch\n",
      "* {'no': 6, 'meio': 6, 'do': 6, 'caminho': 6, 'tinha': 7, 'uma': 7, 'pedra': 6, 'nunca': 2, 'me': 2, 'esquecerei': 2, 'desse': 1, 'acontecimento': 1, 'na': 1, 'vida': 1, 'de': 1, 'minhas': 1, 'retinas': 1, 'tão': 1, 'fatigadas': 1, 'que': 1, 'pedra.': 1, 'fonte:': 1, 'musixmatch': 1}\n"
     ]
    }
   ],
   "source": [
    "#F1\n",
    "t=input(\"digite seu texto:\")\n",
    "uniforme=t.lower() \n",
    "p=uniforme.split( )\n",
    "d=dict()\n",
    "for x in p:\n",
    "    if x in d:\n",
    "        d[x]+=1\n",
    "    else:\n",
    "        d[x]=1\n",
    "print(d)\n",
    "\n",
    "#não consegui fazer a função  \n"
   ]
  },
  {
   "cell_type": "code",
   "execution_count": 84,
   "id": "fe3c5eeb",
   "metadata": {},
   "outputs": [
    {
     "ename": "IndentationError",
     "evalue": "expected an indented block (Temp/ipykernel_7268/3041250008.py, line 16)",
     "output_type": "error",
     "traceback": [
      "\u001b[1;36m  File \u001b[1;32m\"C:\\Users\\gabri\\AppData\\Local\\Temp/ipykernel_7268/3041250008.py\"\u001b[1;36m, line \u001b[1;32m16\u001b[0m\n\u001b[1;33m    \u001b[0m\n\u001b[1;37m    ^\u001b[0m\n\u001b[1;31mIndentationError\u001b[0m\u001b[1;31m:\u001b[0m expected an indented block\n"
     ]
    }
   ],
   "source": [
    "#F2\n",
    "t=input(\"digite seu texto:\")\n",
    "n=input(\"digite sua frequência:\")\n",
    "uniforme=t.lower() \n",
    "p=uniforme.split( )\n",
    "d=dict()\n",
    "\n",
    "for x in p:\n",
    "    d[x] = d.get(x, 0) + 1\n",
    "print(d)\n",
    " #não consegui fazer a função   "
   ]
  },
  {
   "cell_type": "code",
   "execution_count": null,
   "id": "870614ee",
   "metadata": {},
   "outputs": [],
   "source": []
  }
 ],
 "metadata": {
  "kernelspec": {
   "display_name": "Python 3 (ipykernel)",
   "language": "python",
   "name": "python3"
  },
  "language_info": {
   "codemirror_mode": {
    "name": "ipython",
    "version": 3
   },
   "file_extension": ".py",
   "mimetype": "text/x-python",
   "name": "python",
   "nbconvert_exporter": "python",
   "pygments_lexer": "ipython3",
   "version": "3.9.7"
  }
 },
 "nbformat": 4,
 "nbformat_minor": 5
}
