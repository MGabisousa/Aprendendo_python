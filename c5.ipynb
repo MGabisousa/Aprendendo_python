{
 "cells": [
  {
   "cell_type": "code",
   "execution_count": 4,
   "id": "4376cfa1",
   "metadata": {},
   "outputs": [
    {
     "name": "stdout",
     "output_type": "stream",
     "text": [
      "digite o vetor A ele é formado por a1 ,a2,a3\n",
      "digite a:[a 1]:1\n",
      "digite a:[a 2]:-2\n",
      "digite a:[a 3]:2\n",
      "[1, -2, 2]\n"
     ]
    }
   ],
   "source": [
    "#exercício 5 : Maria Gabriela de Paiva sousa \n",
    "vetor_1=[]\n",
    "x=1\n",
    "print('digite o vetor A ele é formado por a1 ,a2,a3')\n",
    "while x <=3:\n",
    "    n=int(input('digite a:[a %s]:'%x))\n",
    "    vetor_1.append(n)\n",
    "    x +=1\n",
    "    \n",
    "print(vetor_1)"
   ]
  },
  {
   "cell_type": "code",
   "execution_count": 5,
   "id": "7c120c38",
   "metadata": {},
   "outputs": [
    {
     "name": "stdout",
     "output_type": "stream",
     "text": [
      "digite o vetor B ele é formado por b1,b2,b3\n",
      "digite:[b 1]:-3\n",
      "digite:[b 2]:6\n",
      "digite:[b 3]:-6\n",
      "[-3, 6, -6]\n"
     ]
    }
   ],
   "source": [
    "vetor_2=[]\n",
    "x=1\n",
    "print('digite o vetor B ele é formado por b1,b2,b3')\n",
    "while x <=3:\n",
    "    n=int(input('digite:[b %s]:'%x))\n",
    "    vetor_2.append(n)\n",
    "    x +=1\n",
    "    \n",
    "print(vetor_2)"
   ]
  },
  {
   "cell_type": "code",
   "execution_count": 6,
   "id": "9ca1d9ae",
   "metadata": {},
   "outputs": [],
   "source": [
    "import numpy as np"
   ]
  },
  {
   "cell_type": "code",
   "execution_count": 7,
   "id": "0d96a172",
   "metadata": {},
   "outputs": [
    {
     "name": "stdout",
     "output_type": "stream",
     "text": [
      "[ 1 -2  2] [-3  6 -6]\n"
     ]
    }
   ],
   "source": [
    "A = np.array(vetor_1) \n",
    "B = np.array(vetor_2) \n",
    "print(A , B)"
   ]
  },
  {
   "cell_type": "code",
   "execution_count": 8,
   "id": "e3592306",
   "metadata": {},
   "outputs": [
    {
     "name": "stdout",
     "output_type": "stream",
     "text": [
      "produto vetorial -27\n"
     ]
    }
   ],
   "source": [
    "produto_v=A.dot(B)\n",
    "print('produto vetorial', produto_v)"
   ]
  },
  {
   "cell_type": "code",
   "execution_count": 9,
   "id": "ddf6c894",
   "metadata": {},
   "outputs": [
    {
     "name": "stdout",
     "output_type": "stream",
     "text": [
      "[1 4 4] [ 9 36 36]\n"
     ]
    }
   ],
   "source": [
    "A2=A**2\n",
    "B2=B**2\n",
    "print(A2 , B2)"
   ]
  },
  {
   "cell_type": "code",
   "execution_count": 10,
   "id": "4c33d726",
   "metadata": {},
   "outputs": [
    {
     "name": "stdout",
     "output_type": "stream",
     "text": [
      "9\n",
      "81\n"
     ]
    }
   ],
   "source": [
    "sA2=A2.sum()\n",
    "print(sA2)\n",
    "sB2=B2.sum()\n",
    "print(sB2)"
   ]
  },
  {
   "cell_type": "code",
   "execution_count": 11,
   "id": "645c07cb",
   "metadata": {},
   "outputs": [
    {
     "name": "stdout",
     "output_type": "stream",
     "text": [
      "3.0\n",
      "9.0\n"
     ]
    }
   ],
   "source": [
    "raA2=sA2**(1/2)\n",
    "print(raA2)\n",
    "raB2=sB2**(1/2)\n",
    "print(raB2)"
   ]
  },
  {
   "cell_type": "code",
   "execution_count": 12,
   "id": "b0ccabae",
   "metadata": {},
   "outputs": [
    {
     "name": "stdout",
     "output_type": "stream",
     "text": [
      "27.0\n"
     ]
    }
   ],
   "source": [
    "o=raA2*raB2\n",
    "print(o)"
   ]
  },
  {
   "cell_type": "code",
   "execution_count": 13,
   "id": "2638b348",
   "metadata": {},
   "outputs": [
    {
     "data": {
      "text/plain": [
       "-1.0"
      ]
     },
     "execution_count": 13,
     "metadata": {},
     "output_type": "execute_result"
    }
   ],
   "source": [
    "coss = produto_v / o\n",
    "coss"
   ]
  },
  {
   "cell_type": "code",
   "execution_count": 23,
   "id": "adf34117",
   "metadata": {},
   "outputs": [
    {
     "name": "stdout",
     "output_type": "stream",
     "text": [
      "cosseno é: 0.5403023058681397\n"
     ]
    }
   ],
   "source": [
    "y=np.cos(coss)\n",
    "print(\"cosseno é:\", y)"
   ]
  },
  {
   "cell_type": "code",
   "execution_count": null,
   "id": "9f2716cb",
   "metadata": {},
   "outputs": [],
   "source": []
  },
  {
   "cell_type": "code",
   "execution_count": null,
   "id": "90697cee",
   "metadata": {},
   "outputs": [],
   "source": []
  }
 ],
 "metadata": {
  "kernelspec": {
   "display_name": "Python 3 (ipykernel)",
   "language": "python",
   "name": "python3"
  },
  "language_info": {
   "codemirror_mode": {
    "name": "ipython",
    "version": 3
   },
   "file_extension": ".py",
   "mimetype": "text/x-python",
   "name": "python",
   "nbconvert_exporter": "python",
   "pygments_lexer": "ipython3",
   "version": "3.9.7"
  }
 },
 "nbformat": 4,
 "nbformat_minor": 5
}
