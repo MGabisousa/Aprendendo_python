{
 "cells": [
  {
   "cell_type": "code",
   "execution_count": 66,
   "id": "b3df9374",
   "metadata": {},
   "outputs": [],
   "source": [
    "#tarefa 6: Maria Gabriela de Paiva Sousa \n",
    "import pandas as pd\n",
    "import numpy  as np\n",
    "f = pd.read_csv(\"auto.csv\")\n",
    "#o arquivo esta no mesmo diretório \n"
   ]
  },
  {
   "cell_type": "code",
   "execution_count": 61,
   "id": "fcf0a59e",
   "metadata": {},
   "outputs": [
    {
     "data": {
      "text/html": [
       "<div>\n",
       "<style scoped>\n",
       "    .dataframe tbody tr th:only-of-type {\n",
       "        vertical-align: middle;\n",
       "    }\n",
       "\n",
       "    .dataframe tbody tr th {\n",
       "        vertical-align: top;\n",
       "    }\n",
       "\n",
       "    .dataframe thead th {\n",
       "        text-align: right;\n",
       "    }\n",
       "</style>\n",
       "<table border=\"1\" class=\"dataframe\">\n",
       "  <thead>\n",
       "    <tr style=\"text-align: right;\">\n",
       "      <th></th>\n",
       "      <th>modelo</th>\n",
       "      <th>massa_kg</th>\n",
       "      <th>c_km\\litro</th>\n",
       "      <th>massa\\com</th>\n",
       "    </tr>\n",
       "  </thead>\n",
       "  <tbody>\n",
       "    <tr>\n",
       "      <th>0</th>\n",
       "      <td>Focus</td>\n",
       "      <td>1198</td>\n",
       "      <td>11.90</td>\n",
       "      <td>100.672269</td>\n",
       "    </tr>\n",
       "    <tr>\n",
       "      <th>1</th>\n",
       "      <td>Crown Victoria</td>\n",
       "      <td>1715</td>\n",
       "      <td>6.80</td>\n",
       "      <td>252.205882</td>\n",
       "    </tr>\n",
       "    <tr>\n",
       "      <th>2</th>\n",
       "      <td>Expedition</td>\n",
       "      <td>2530</td>\n",
       "      <td>5.53</td>\n",
       "      <td>457.504521</td>\n",
       "    </tr>\n",
       "    <tr>\n",
       "      <th>3</th>\n",
       "      <td>Explorer</td>\n",
       "      <td>2014</td>\n",
       "      <td>6.38</td>\n",
       "      <td>315.673981</td>\n",
       "    </tr>\n",
       "    <tr>\n",
       "      <th>4</th>\n",
       "      <td>F-150</td>\n",
       "      <td>2136</td>\n",
       "      <td>5.53</td>\n",
       "      <td>386.256781</td>\n",
       "    </tr>\n",
       "    <tr>\n",
       "      <th>5</th>\n",
       "      <td>Fusion</td>\n",
       "      <td>1492</td>\n",
       "      <td>8.50</td>\n",
       "      <td>175.529412</td>\n",
       "    </tr>\n",
       "    <tr>\n",
       "      <th>6</th>\n",
       "      <td>Taurus</td>\n",
       "      <td>1652</td>\n",
       "      <td>7.65</td>\n",
       "      <td>215.947712</td>\n",
       "    </tr>\n",
       "    <tr>\n",
       "      <th>7</th>\n",
       "      <td>Fit</td>\n",
       "      <td>1168</td>\n",
       "      <td>13.60</td>\n",
       "      <td>85.882353</td>\n",
       "    </tr>\n",
       "    <tr>\n",
       "      <th>8</th>\n",
       "      <td>Accord</td>\n",
       "      <td>1492</td>\n",
       "      <td>9.78</td>\n",
       "      <td>152.556237</td>\n",
       "    </tr>\n",
       "    <tr>\n",
       "      <th>9</th>\n",
       "      <td>CR-V</td>\n",
       "      <td>1602</td>\n",
       "      <td>8.93</td>\n",
       "      <td>179.395297</td>\n",
       "    </tr>\n",
       "    <tr>\n",
       "      <th>10</th>\n",
       "      <td>Civic</td>\n",
       "      <td>1192</td>\n",
       "      <td>11.90</td>\n",
       "      <td>100.168067</td>\n",
       "    </tr>\n",
       "    <tr>\n",
       "      <th>11</th>\n",
       "      <td>Ridgeline</td>\n",
       "      <td>2045</td>\n",
       "      <td>6.38</td>\n",
       "      <td>320.532915</td>\n",
       "    </tr>\n",
       "  </tbody>\n",
       "</table>\n",
       "</div>"
      ],
      "text/plain": [
       "            modelo  massa_kg  c_km\\litro   massa\\com\n",
       "0            Focus      1198       11.90  100.672269\n",
       "1   Crown Victoria      1715        6.80  252.205882\n",
       "2       Expedition      2530        5.53  457.504521\n",
       "3         Explorer      2014        6.38  315.673981\n",
       "4            F-150      2136        5.53  386.256781\n",
       "5           Fusion      1492        8.50  175.529412\n",
       "6           Taurus      1652        7.65  215.947712\n",
       "7              Fit      1168       13.60   85.882353\n",
       "8           Accord      1492        9.78  152.556237\n",
       "9             CR-V      1602        8.93  179.395297\n",
       "10           Civic      1192       11.90  100.168067\n",
       "11       Ridgeline      2045        6.38  320.532915"
      ]
     },
     "execution_count": 61,
     "metadata": {},
     "output_type": "execute_result"
    }
   ],
   "source": [
    "#Q1:Crie uma nova coluna com a relação Massa/Consumo.\n",
    "df['massa\\com']=df['massa_kg']/df['c_km\\litro'] \n",
    "df"
   ]
  },
  {
   "cell_type": "code",
   "execution_count": 62,
   "id": "92024f0c",
   "metadata": {},
   "outputs": [
    {
     "data": {
      "text/plain": [
       "Index(['modelo', 'massa_kg', 'c_km\\litro', 'massa\\com'], dtype='object')"
      ]
     },
     "execution_count": 62,
     "metadata": {},
     "output_type": "execute_result"
    }
   ],
   "source": [
    "#para facilitar \n",
    "df.set_axis(['modelo','massa_kg','c_km\\litro','massa\\com',], \n",
    "                    axis='columns', inplace=True)\n",
    "df.columns"
   ]
  },
  {
   "cell_type": "code",
   "execution_count": 63,
   "id": "e43d37be",
   "metadata": {},
   "outputs": [
    {
     "data": {
      "text/html": [
       "<div>\n",
       "<style scoped>\n",
       "    .dataframe tbody tr th:only-of-type {\n",
       "        vertical-align: middle;\n",
       "    }\n",
       "\n",
       "    .dataframe tbody tr th {\n",
       "        vertical-align: top;\n",
       "    }\n",
       "\n",
       "    .dataframe thead th {\n",
       "        text-align: right;\n",
       "    }\n",
       "</style>\n",
       "<table border=\"1\" class=\"dataframe\">\n",
       "  <thead>\n",
       "    <tr style=\"text-align: right;\">\n",
       "      <th></th>\n",
       "      <th>modelo</th>\n",
       "      <th>massa_kg</th>\n",
       "      <th>c_km\\litro</th>\n",
       "      <th>massa\\com</th>\n",
       "    </tr>\n",
       "  </thead>\n",
       "  <tbody>\n",
       "    <tr>\n",
       "      <th>1</th>\n",
       "      <td>Crown Victoria</td>\n",
       "      <td>1715</td>\n",
       "      <td>6.80</td>\n",
       "      <td>252.205882</td>\n",
       "    </tr>\n",
       "    <tr>\n",
       "      <th>3</th>\n",
       "      <td>Explorer</td>\n",
       "      <td>2014</td>\n",
       "      <td>6.38</td>\n",
       "      <td>315.673981</td>\n",
       "    </tr>\n",
       "    <tr>\n",
       "      <th>4</th>\n",
       "      <td>F-150</td>\n",
       "      <td>2136</td>\n",
       "      <td>5.53</td>\n",
       "      <td>386.256781</td>\n",
       "    </tr>\n",
       "    <tr>\n",
       "      <th>6</th>\n",
       "      <td>Taurus</td>\n",
       "      <td>1652</td>\n",
       "      <td>7.65</td>\n",
       "      <td>215.947712</td>\n",
       "    </tr>\n",
       "    <tr>\n",
       "      <th>9</th>\n",
       "      <td>CR-V</td>\n",
       "      <td>1602</td>\n",
       "      <td>8.93</td>\n",
       "      <td>179.395297</td>\n",
       "    </tr>\n",
       "    <tr>\n",
       "      <th>11</th>\n",
       "      <td>Ridgeline</td>\n",
       "      <td>2045</td>\n",
       "      <td>6.38</td>\n",
       "      <td>320.532915</td>\n",
       "    </tr>\n",
       "  </tbody>\n",
       "</table>\n",
       "</div>"
      ],
      "text/plain": [
       "            modelo  massa_kg  c_km\\litro   massa\\com\n",
       "1   Crown Victoria      1715        6.80  252.205882\n",
       "3         Explorer      2014        6.38  315.673981\n",
       "4            F-150      2136        5.53  386.256781\n",
       "6           Taurus      1652        7.65  215.947712\n",
       "9             CR-V      1602        8.93  179.395297\n",
       "11       Ridgeline      2045        6.38  320.532915"
      ]
     },
     "execution_count": 63,
     "metadata": {},
     "output_type": "execute_result"
    }
   ],
   "source": [
    "#Q2:Crie e exiba uma subtabela onde são mostrados apenas os dados dos veículos com massa maiores ou iguais que 1500 e menores ou iguais que2250.\n",
    "\n",
    "sub=df[(df.massa_kg >= 1500) & (df.massa_kg <= 2250)]\n",
    "sub"
   ]
  },
  {
   "cell_type": "code",
   "execution_count": 64,
   "id": "89e4ea59",
   "metadata": {},
   "outputs": [
    {
     "data": {
      "text/plain": [
       "278.335428211496"
      ]
     },
     "execution_count": 64,
     "metadata": {},
     "output_type": "execute_result"
    }
   ],
   "source": [
    "#Q3:Exiba a média da nova coluna (Massa/Consumo) dessa subtabela.\n",
    "sub['massa\\com'].mean()"
   ]
  },
  {
   "cell_type": "code",
   "execution_count": null,
   "id": "81c02017",
   "metadata": {},
   "outputs": [],
   "source": []
  },
  {
   "cell_type": "code",
   "execution_count": null,
   "id": "2b2b57b0",
   "metadata": {},
   "outputs": [],
   "source": []
  }
 ],
 "metadata": {
  "kernelspec": {
   "display_name": "Python 3 (ipykernel)",
   "language": "python",
   "name": "python3"
  },
  "language_info": {
   "codemirror_mode": {
    "name": "ipython",
    "version": 3
   },
   "file_extension": ".py",
   "mimetype": "text/x-python",
   "name": "python",
   "nbconvert_exporter": "python",
   "pygments_lexer": "ipython3",
   "version": "3.9.7"
  }
 },
 "nbformat": 4,
 "nbformat_minor": 5
}
