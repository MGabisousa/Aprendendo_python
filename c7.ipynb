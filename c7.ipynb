{
 "cells": [
  {
   "cell_type": "markdown",
   "id": "6b936648",
   "metadata": {},
   "source": [
    "Prova de introdução a  programação \n",
    "\n",
    "dupla:\n",
    "\n",
    "Maria Gabriela de Paiva Sousa  Matricula:20210162000\n",
    "\n",
    "Elanie Regina Reis Sousa  Matricula:20210161011"
   ]
  },
  {
   "cell_type": "code",
   "execution_count": 5,
   "id": "64c42108",
   "metadata": {},
   "outputs": [],
   "source": [
    "#Q1\n",
    "produtos =['Quindle','Alecsa','Fogo_tv']\n",
    "estoque = {\"Quindle\": 1, \"Alecsa\": 4, \"Fogo TV\": 1}\n",
    "pedidos = [\"Quindle\", \"Fogo TV\", \"Quindle\", \"Quindle\", \"Fogo TV\"]\n",
    "\n",
    "sQ=pedidos.count('Quindle')\n",
    "sA=pedidos.count('Fogo_tv')\n",
    "sFT=pedidos.count('Alecsa')\n",
    "nP=[sQ,sA,sFT]\n",
    "pedidos=dict(zip(produtos,nP))\n",
    "\n",
    "def verificar_estoque(estoque,pedidos):\n",
    "    e=estoque\n",
    "    nP=pedidos\n",
    "    if ((e[0][1]>=nP[0][1])and(e[1][1]>=nP[1][1])and(e[2][1]>=nP[2][1])): \n",
    "        print('o estoque atende os pedidos!!')\n",
    "    else:\n",
    "        print('o estoque não atende os pedidos!!\\Devemos solicitar: ')\n",
    "        if e[0][1]<nP[0][1]:\n",
    "            print(nP[0][1]-e[0][1],'Quindle')\n",
    "        if e[1][1]<nP[1][1]:\n",
    "            print(nP[1][1]-e[1][1],'Alecsa')\n",
    "        if e[2][1]<nP[2][1]:\n",
    "            print(nP[2][1]-e[2][1],'Fogo_tv')\n",
    "pedidos=list(pedidos.items())\n",
    "estoque=list(estoque.items())"
   ]
  },
  {
   "cell_type": "code",
   "execution_count": 6,
   "id": "0c4b785f",
   "metadata": {},
   "outputs": [
    {
     "name": "stdout",
     "output_type": "stream",
     "text": [
      "o estoque não atende os pedidos!!\\Devemos solicitar: \n",
      "2 Quindle\n"
     ]
    }
   ],
   "source": [
    "verificar_estoque(estoque,pedidos)"
   ]
  },
  {
   "cell_type": "code",
   "execution_count": 7,
   "id": "58a2af5f",
   "metadata": {},
   "outputs": [],
   "source": [
    "#Q2\n",
    "bairros = [\"Nanaíra\",\"Pambau\",\"Banqueiros\",\"Fio Branco\",\"Baixoplano\",\"Castelo Preto\"]\n",
    "rotas = [\n",
    "[\"Nanaíra\", \"Pambau\"],\n",
    "# rota do ônibus 2:\n",
    "[\"Fio Branco\", \"Baixoplano\", \"Banqueiros\"],\n",
    "['Castelo Preto']\n",
    "]\n",
    "r1=rotas[0]+rotas[1]+rotas[2]    \n",
    "def verifica_visitas(bairros,rotas):\n",
    "    if sorted(bairros) == sorted(r1)  :\n",
    "        print('As rotas visitam todos os bairros somente uma vez!')\n",
    "    else:\n",
    "        print('As rotas não visitam todos os bairros e/ou visitam o mesmo bairro mais de uma vez!')"
   ]
  },
  {
   "cell_type": "code",
   "execution_count": 8,
   "id": "684bdbba",
   "metadata": {},
   "outputs": [
    {
     "name": "stdout",
     "output_type": "stream",
     "text": [
      "As rotas visitam todos os bairros somente uma vez!\n"
     ]
    }
   ],
   "source": [
    "verifica_visitas(bairros,rotas)"
   ]
  },
  {
   "cell_type": "code",
   "execution_count": 9,
   "id": "c000d31e",
   "metadata": {},
   "outputs": [],
   "source": [
    "#Q3\n",
    "regiao = ((2, 4), (3, 2))\n",
    "crimes = [(1, 1), (2, 2), (3, 3)]\n",
    "região=regiao[0]+regiao[1]\n",
    "l=[]\n",
    "def calc_crimes_gangues(crimes,região):\n",
    "    \n",
    "    for i in crimes:\n",
    "        if i<=região:\n",
    "            l.append(1)\n",
    "        else:\n",
    "            l.append(0)\n",
    "            print(sum(l),'crime(s) de responsabilidade da gangue')   "
   ]
  },
  {
   "cell_type": "code",
   "execution_count": 10,
   "id": "c069983c",
   "metadata": {},
   "outputs": [
    {
     "name": "stdout",
     "output_type": "stream",
     "text": [
      "2 crime(s) de responsabilidade da gangue\n"
     ]
    }
   ],
   "source": [
    "calc_crimes_gangues(crimes,região)"
   ]
  },
  {
   "cell_type": "code",
   "execution_count": 11,
   "id": "176187a3",
   "metadata": {},
   "outputs": [],
   "source": [
    "tarefas=[(10,2),(11,3)]\n",
    "x=len(tarefas)-1\n",
    "a=[]\n",
    "o=[]\n",
    "def analisa_tempo(tarefas):\n",
    "    for i in range(len(tarefas)):\n",
    "        if x>i>=0:\n",
    "            tta=sum(tarefas[i])-tarefas[i+1][0]\n",
    "            tto=tarefas[i+1][0]-sum(tarefas[i])\n",
    "            if tta <0:\n",
    "                tta=0\n",
    "            if tto<0:\n",
    "                tto=0\n",
    "            a.append(tta)\n",
    "            o.append(tto)\n",
    "            atraso=sum(a)\n",
    "            ocio=sum(o)\n",
    "            tf=sum(tarefas[-1])+atraso\n",
    "    print('tempo total de atraso:',atraso)\n",
    "    print('tempo total de ocio:',ocio)\n",
    "    print('tempo final:',tf)"
   ]
  },
  {
   "cell_type": "code",
   "execution_count": 12,
   "id": "cbf87ea5",
   "metadata": {},
   "outputs": [
    {
     "name": "stdout",
     "output_type": "stream",
     "text": [
      "tempo total de atraso: 1\n",
      "tempo total de ocio: 0\n",
      "tempo final: 15\n"
     ]
    }
   ],
   "source": [
    "analisa_tempo(tarefas)"
   ]
  },
  {
   "cell_type": "code",
   "execution_count": null,
   "id": "e39b9fe6",
   "metadata": {},
   "outputs": [],
   "source": []
  }
 ],
 "metadata": {
  "kernelspec": {
   "display_name": "Python 3 (ipykernel)",
   "language": "python",
   "name": "python3"
  },
  "language_info": {
   "codemirror_mode": {
    "name": "ipython",
    "version": 3
   },
   "file_extension": ".py",
   "mimetype": "text/x-python",
   "name": "python",
   "nbconvert_exporter": "python",
   "pygments_lexer": "ipython3",
   "version": "3.9.7"
  }
 },
 "nbformat": 4,
 "nbformat_minor": 5
}
